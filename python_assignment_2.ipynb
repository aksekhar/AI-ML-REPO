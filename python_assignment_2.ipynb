{
  "nbformat": 4,
  "nbformat_minor": 0,
  "metadata": {
    "colab": {
      "name": "python assignment 2.ipynb",
      "provenance": [],
      "collapsed_sections": [],
      "authorship_tag": "ABX9TyNCregizgj7/rr6ubhkV4bD",
      "include_colab_link": true
    },
    "kernelspec": {
      "name": "python3",
      "display_name": "Python 3"
    }
  },
  "cells": [
    {
      "cell_type": "markdown",
      "metadata": {
        "id": "view-in-github",
        "colab_type": "text"
      },
      "source": [
        "<a href=\"https://colab.research.google.com/github/akshyan/AI-ML-REPO/blob/feature-google-colab/python_assignment_2.ipynb\" target=\"_parent\"><img src=\"https://colab.research.google.com/assets/colab-badge.svg\" alt=\"Open In Colab\"/></a>"
      ]
    },
    {
      "cell_type": "markdown",
      "metadata": {
        "id": "OQE4flxHZdya",
        "colab_type": "text"
      },
      "source": [
        "**python assignment 2**"
      ]
    },
    {
      "cell_type": "markdown",
      "metadata": {
        "id": "eOtyHpiQZh1r",
        "colab_type": "text"
      },
      "source": [
        "1. Create the below pattern using nested for loop in Python.\n",
        "*\n",
        "** *** **** ***** **** *** **\n",
        "*"
      ]
    },
    {
      "cell_type": "code",
      "metadata": {
        "id": "WCwlvvwqZmru",
        "colab_type": "code",
        "colab": {
          "base_uri": "https://localhost:8080/",
          "height": 204
        },
        "outputId": "4befea1a-1882-4af8-c4cb-7fd874f8b307"
      },
      "source": [
        "n =6\n",
        "for k in range(n):\n",
        "    print('* '*k)\n",
        "    if (k ==5):\n",
        "        for l in reversed (range(k)):\n",
        "            print('* '*l)"
      ],
      "execution_count": 1,
      "outputs": [
        {
          "output_type": "stream",
          "text": [
            "\n",
            "* \n",
            "* * \n",
            "* * * \n",
            "* * * * \n",
            "* * * * * \n",
            "* * * * \n",
            "* * * \n",
            "* * \n",
            "* \n",
            "\n"
          ],
          "name": "stdout"
        }
      ]
    },
    {
      "cell_type": "markdown",
      "metadata": {
        "id": "G4iyrSAtZzoH",
        "colab_type": "text"
      },
      "source": [
        "2. Write a Python program to reverse a word after accepting the input from the user.\n",
        "Sample Output:\n",
        "Input word: ineuron Output: norueni"
      ]
    },
    {
      "cell_type": "code",
      "metadata": {
        "id": "HStE0WqZZ3Rk",
        "colab_type": "code",
        "colab": {
          "base_uri": "https://localhost:8080/",
          "height": 51
        },
        "outputId": "718efc0f-ec28-45ae-c7e6-e824ac42e786"
      },
      "source": [
        "#approch 1\n",
        "input_word=input(':')\n",
        "rev_word =''\n",
        "for i in range(len(input_word)):\n",
        "     rev_word= input_word[i] + rev_word\n",
        "print(rev_word) "
      ],
      "execution_count": 2,
      "outputs": [
        {
          "output_type": "stream",
          "text": [
            ":ineuron\n",
            "norueni\n"
          ],
          "name": "stdout"
        }
      ]
    },
    {
      "cell_type": "code",
      "metadata": {
        "id": "KpR10YQIaAAD",
        "colab_type": "code",
        "colab": {
          "base_uri": "https://localhost:8080/",
          "height": 54
        },
        "outputId": "afefdf67-d229-4beb-9a8e-94bcd7563bc4"
      },
      "source": [
        "#approch 2\n",
        "input_word=input(':')\n",
        "input_word[::-1]"
      ],
      "execution_count": 3,
      "outputs": [
        {
          "output_type": "stream",
          "text": [
            ":ineuron\n"
          ],
          "name": "stdout"
        },
        {
          "output_type": "execute_result",
          "data": {
            "application/vnd.google.colaboratory.intrinsic": {
              "type": "string"
            },
            "text/plain": [
              "'norueni'"
            ]
          },
          "metadata": {
            "tags": []
          },
          "execution_count": 3
        }
      ]
    }
  ]
}