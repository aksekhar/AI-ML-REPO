{
  "nbformat": 4,
  "nbformat_minor": 0,
  "metadata": {
    "colab": {
      "name": "BostonHousingNeuralNetworkRegProblem.ipynb",
      "provenance": [],
      "collapsed_sections": [],
      "authorship_tag": "ABX9TyOXTBQINQUivxhlh7PiCDJ7",
      "include_colab_link": true
    },
    "kernelspec": {
      "name": "python3",
      "display_name": "Python 3"
    },
    "language_info": {
      "name": "python"
    }
  },
  "cells": [
    {
      "cell_type": "markdown",
      "metadata": {
        "id": "view-in-github",
        "colab_type": "text"
      },
      "source": [
        "<a href=\"https://colab.research.google.com/github/aksekhar/AI-ML-REPO/blob/master/BostonHousingNeuralNetworkRegProblem.ipynb\" target=\"_parent\"><img src=\"https://colab.research.google.com/assets/colab-badge.svg\" alt=\"Open In Colab\"/></a>"
      ]
    },
    {
      "cell_type": "code",
      "metadata": {
        "id": "Hrzo-QWyQkYK"
      },
      "source": [
        "import tensorflow"
      ],
      "execution_count": 1,
      "outputs": []
    },
    {
      "cell_type": "code",
      "metadata": {
        "id": "fhAxUcQpUrU3"
      },
      "source": [
        "# Initialize the random number generator\n",
        "import random\n",
        "random.seed(0)\n",
        "\n",
        "# Ignore the warnings\n",
        "import warnings\n",
        "warnings.filterwarnings(\"ignore\")"
      ],
      "execution_count": 2,
      "outputs": []
    },
    {
      "cell_type": "code",
      "metadata": {
        "colab": {
          "base_uri": "https://localhost:8080/"
        },
        "id": "38OqQhqXUsl9",
        "outputId": "36785995-c453-49f1-a83c-5826c8d7bd0f"
      },
      "source": [
        "from tensorflow.keras.datasets import boston_housing\n",
        "(X,y),_= boston_housing.load_data(test_split=0)"
      ],
      "execution_count": 5,
      "outputs": [
        {
          "output_type": "stream",
          "name": "stdout",
          "text": [
            "Downloading data from https://storage.googleapis.com/tensorflow/tf-keras-datasets/boston_housing.npz\n",
            "57344/57026 [==============================] - 0s 0us/step\n",
            "65536/57026 [==================================] - 0s 0us/step\n"
          ]
        }
      ]
    },
    {
      "cell_type": "code",
      "metadata": {
        "colab": {
          "base_uri": "https://localhost:8080/"
        },
        "id": "WLKpMdreVehB",
        "outputId": "4895949b-9408-4184-8ba4-3ba3604728ea"
      },
      "source": [
        "print('Number of examples: ', X.shape[0])\n",
        "print('Number of features for each example: ', X.shape[1])\n",
        "print('Shape of actual prices data: ', y.shape)"
      ],
      "execution_count": 6,
      "outputs": [
        {
          "output_type": "stream",
          "name": "stdout",
          "text": [
            "Number of examples:  506\n",
            "Number of features for each example:  13\n",
            "Shape of actual prices data:  (506,)\n"
          ]
        }
      ]
    },
    {
      "cell_type": "code",
      "metadata": {
        "colab": {
          "base_uri": "https://localhost:8080/"
        },
        "id": "DYCmkG-WVmDW",
        "outputId": "d4be416c-d9e4-47dd-8a20-6666deac028a"
      },
      "source": [
        "X[:3]"
      ],
      "execution_count": 7,
      "outputs": [
        {
          "output_type": "execute_result",
          "data": {
            "text/plain": [
              "array([[1.23247e+00, 0.00000e+00, 8.14000e+00, 0.00000e+00, 5.38000e-01,\n",
              "        6.14200e+00, 9.17000e+01, 3.97690e+00, 4.00000e+00, 3.07000e+02,\n",
              "        2.10000e+01, 3.96900e+02, 1.87200e+01],\n",
              "       [2.17700e-02, 8.25000e+01, 2.03000e+00, 0.00000e+00, 4.15000e-01,\n",
              "        7.61000e+00, 1.57000e+01, 6.27000e+00, 2.00000e+00, 3.48000e+02,\n",
              "        1.47000e+01, 3.95380e+02, 3.11000e+00],\n",
              "       [4.89822e+00, 0.00000e+00, 1.81000e+01, 0.00000e+00, 6.31000e-01,\n",
              "        4.97000e+00, 1.00000e+02, 1.33250e+00, 2.40000e+01, 6.66000e+02,\n",
              "        2.02000e+01, 3.75520e+02, 3.26000e+00]])"
            ]
          },
          "metadata": {},
          "execution_count": 7
        }
      ]
    },
    {
      "cell_type": "code",
      "metadata": {
        "colab": {
          "base_uri": "https://localhost:8080/"
        },
        "id": "Ah4UKE26VweZ",
        "outputId": "1f3790dd-610a-4196-eb64-ed9cf9f075da"
      },
      "source": [
        "y[:3]"
      ],
      "execution_count": 8,
      "outputs": [
        {
          "output_type": "execute_result",
          "data": {
            "text/plain": [
              "array([15.2, 42.3, 50. ])"
            ]
          },
          "metadata": {},
          "execution_count": 8
        }
      ]
    },
    {
      "cell_type": "code",
      "metadata": {
        "id": "G3U9I_dcV2ph"
      },
      "source": [
        "model= tensorflow.keras.Sequential()\n",
        "model.add(tensorflow.keras.layers.BatchNormalization(input_shape=(13,)))\n",
        "model.add(tensorflow.keras.layers.Dense(1))"
      ],
      "execution_count": 10,
      "outputs": []
    },
    {
      "cell_type": "code",
      "metadata": {
        "id": "43vb-gYfWl1a"
      },
      "source": [
        "model.compile(optimizer='sgd',loss='mse')"
      ],
      "execution_count": 11,
      "outputs": []
    },
    {
      "cell_type": "code",
      "metadata": {
        "colab": {
          "base_uri": "https://localhost:8080/"
        },
        "id": "ReeiZJ8oWwyn",
        "outputId": "c6cfc2c3-38d5-41a9-bf26-24215cfca633"
      },
      "source": [
        "model.fit(X,y,epochs=100, validation_split=0.35)"
      ],
      "execution_count": 13,
      "outputs": [
        {
          "output_type": "stream",
          "name": "stdout",
          "text": [
            "Epoch 1/100\n",
            "11/11 [==============================] - 1s 18ms/step - loss: 238.7945 - val_loss: 73.8162\n",
            "Epoch 2/100\n",
            "11/11 [==============================] - 0s 3ms/step - loss: 41.4901 - val_loss: 43.7363\n",
            "Epoch 3/100\n",
            "11/11 [==============================] - 0s 5ms/step - loss: 37.6867 - val_loss: 75.4515\n",
            "Epoch 4/100\n",
            "11/11 [==============================] - 0s 4ms/step - loss: 39.5723 - val_loss: 46.7820\n",
            "Epoch 5/100\n",
            "11/11 [==============================] - 0s 5ms/step - loss: 35.2889 - val_loss: 35.3797\n",
            "Epoch 6/100\n",
            "11/11 [==============================] - 0s 4ms/step - loss: 32.4322 - val_loss: 32.7578\n",
            "Epoch 7/100\n",
            "11/11 [==============================] - 0s 5ms/step - loss: 29.8067 - val_loss: 30.1035\n",
            "Epoch 8/100\n",
            "11/11 [==============================] - 0s 5ms/step - loss: 29.1564 - val_loss: 63.4485\n",
            "Epoch 9/100\n",
            "11/11 [==============================] - 0s 3ms/step - loss: 36.1419 - val_loss: 47.8746\n",
            "Epoch 10/100\n",
            "11/11 [==============================] - 0s 4ms/step - loss: 35.6430 - val_loss: 34.6904\n",
            "Epoch 11/100\n",
            "11/11 [==============================] - 0s 5ms/step - loss: 31.5589 - val_loss: 71.5908\n",
            "Epoch 12/100\n",
            "11/11 [==============================] - 0s 3ms/step - loss: 33.0452 - val_loss: 26.6815\n",
            "Epoch 13/100\n",
            "11/11 [==============================] - 0s 5ms/step - loss: 30.2633 - val_loss: 38.7915\n",
            "Epoch 14/100\n",
            "11/11 [==============================] - 0s 3ms/step - loss: 32.0278 - val_loss: 56.5854\n",
            "Epoch 15/100\n",
            "11/11 [==============================] - 0s 5ms/step - loss: 31.5045 - val_loss: 80.5726\n",
            "Epoch 16/100\n",
            "11/11 [==============================] - 0s 4ms/step - loss: 33.9517 - val_loss: 29.4518\n",
            "Epoch 17/100\n",
            "11/11 [==============================] - 0s 4ms/step - loss: 34.4294 - val_loss: 55.2941\n",
            "Epoch 18/100\n",
            "11/11 [==============================] - 0s 5ms/step - loss: 30.3531 - val_loss: 28.3402\n",
            "Epoch 19/100\n",
            "11/11 [==============================] - 0s 5ms/step - loss: 26.6402 - val_loss: 48.9966\n",
            "Epoch 20/100\n",
            "11/11 [==============================] - 0s 4ms/step - loss: 30.5002 - val_loss: 32.6619\n",
            "Epoch 21/100\n",
            "11/11 [==============================] - 0s 5ms/step - loss: 31.8491 - val_loss: 46.9533\n",
            "Epoch 22/100\n",
            "11/11 [==============================] - 0s 5ms/step - loss: 28.6868 - val_loss: 25.8189\n",
            "Epoch 23/100\n",
            "11/11 [==============================] - 0s 5ms/step - loss: 29.9217 - val_loss: 37.1211\n",
            "Epoch 24/100\n",
            "11/11 [==============================] - 0s 4ms/step - loss: 30.6090 - val_loss: 54.6416\n",
            "Epoch 25/100\n",
            "11/11 [==============================] - 0s 5ms/step - loss: 26.5839 - val_loss: 24.8777\n",
            "Epoch 26/100\n",
            "11/11 [==============================] - 0s 5ms/step - loss: 29.5555 - val_loss: 30.7989\n",
            "Epoch 27/100\n",
            "11/11 [==============================] - 0s 3ms/step - loss: 28.6025 - val_loss: 30.2872\n",
            "Epoch 28/100\n",
            "11/11 [==============================] - 0s 5ms/step - loss: 28.5344 - val_loss: 26.5148\n",
            "Epoch 29/100\n",
            "11/11 [==============================] - 0s 3ms/step - loss: 31.0774 - val_loss: 37.3223\n",
            "Epoch 30/100\n",
            "11/11 [==============================] - 0s 4ms/step - loss: 30.5242 - val_loss: 34.6958\n",
            "Epoch 31/100\n",
            "11/11 [==============================] - 0s 4ms/step - loss: 28.2943 - val_loss: 40.9386\n",
            "Epoch 32/100\n",
            "11/11 [==============================] - 0s 4ms/step - loss: 28.5744 - val_loss: 40.6900\n",
            "Epoch 33/100\n",
            "11/11 [==============================] - 0s 5ms/step - loss: 36.1359 - val_loss: 23.6970\n",
            "Epoch 34/100\n",
            "11/11 [==============================] - 0s 4ms/step - loss: 29.5250 - val_loss: 30.8747\n",
            "Epoch 35/100\n",
            "11/11 [==============================] - 0s 4ms/step - loss: 29.6502 - val_loss: 39.2223\n",
            "Epoch 36/100\n",
            "11/11 [==============================] - 0s 5ms/step - loss: 29.9710 - val_loss: 32.8666\n",
            "Epoch 37/100\n",
            "11/11 [==============================] - 0s 5ms/step - loss: 26.1528 - val_loss: 28.7266\n",
            "Epoch 38/100\n",
            "11/11 [==============================] - 0s 5ms/step - loss: 25.2765 - val_loss: 38.7253\n",
            "Epoch 39/100\n",
            "11/11 [==============================] - 0s 4ms/step - loss: 30.2755 - val_loss: 24.2297\n",
            "Epoch 40/100\n",
            "11/11 [==============================] - 0s 4ms/step - loss: 31.2503 - val_loss: 31.3915\n",
            "Epoch 41/100\n",
            "11/11 [==============================] - 0s 5ms/step - loss: 32.3584 - val_loss: 49.1938\n",
            "Epoch 42/100\n",
            "11/11 [==============================] - 0s 5ms/step - loss: 29.1373 - val_loss: 25.5251\n",
            "Epoch 43/100\n",
            "11/11 [==============================] - 0s 4ms/step - loss: 25.9110 - val_loss: 57.2335\n",
            "Epoch 44/100\n",
            "11/11 [==============================] - 0s 4ms/step - loss: 34.2944 - val_loss: 25.4610\n",
            "Epoch 45/100\n",
            "11/11 [==============================] - 0s 3ms/step - loss: 27.1722 - val_loss: 30.0500\n",
            "Epoch 46/100\n",
            "11/11 [==============================] - 0s 4ms/step - loss: 28.9084 - val_loss: 22.9735\n",
            "Epoch 47/100\n",
            "11/11 [==============================] - 0s 5ms/step - loss: 29.0133 - val_loss: 44.6149\n",
            "Epoch 48/100\n",
            "11/11 [==============================] - 0s 5ms/step - loss: 28.1613 - val_loss: 37.6778\n",
            "Epoch 49/100\n",
            "11/11 [==============================] - 0s 4ms/step - loss: 25.7223 - val_loss: 27.4320\n",
            "Epoch 50/100\n",
            "11/11 [==============================] - 0s 4ms/step - loss: 27.8388 - val_loss: 28.7640\n",
            "Epoch 51/100\n",
            "11/11 [==============================] - 0s 3ms/step - loss: 30.7803 - val_loss: 28.8012\n",
            "Epoch 52/100\n",
            "11/11 [==============================] - 0s 4ms/step - loss: 30.5968 - val_loss: 45.0504\n",
            "Epoch 53/100\n",
            "11/11 [==============================] - 0s 5ms/step - loss: 30.0084 - val_loss: 23.1727\n",
            "Epoch 54/100\n",
            "11/11 [==============================] - 0s 3ms/step - loss: 30.7919 - val_loss: 28.2344\n",
            "Epoch 55/100\n",
            "11/11 [==============================] - 0s 5ms/step - loss: 24.9865 - val_loss: 23.8985\n",
            "Epoch 56/100\n",
            "11/11 [==============================] - 0s 5ms/step - loss: 26.2680 - val_loss: 25.7776\n",
            "Epoch 57/100\n",
            "11/11 [==============================] - 0s 3ms/step - loss: 35.7202 - val_loss: 48.7600\n",
            "Epoch 58/100\n",
            "11/11 [==============================] - 0s 4ms/step - loss: 33.9597 - val_loss: 24.0283\n",
            "Epoch 59/100\n",
            "11/11 [==============================] - 0s 5ms/step - loss: 28.3159 - val_loss: 27.7947\n",
            "Epoch 60/100\n",
            "11/11 [==============================] - 0s 4ms/step - loss: 28.6277 - val_loss: 27.9623\n",
            "Epoch 61/100\n",
            "11/11 [==============================] - 0s 5ms/step - loss: 29.7753 - val_loss: 24.4760\n",
            "Epoch 62/100\n",
            "11/11 [==============================] - 0s 4ms/step - loss: 25.0364 - val_loss: 28.6200\n",
            "Epoch 63/100\n",
            "11/11 [==============================] - 0s 3ms/step - loss: 27.8617 - val_loss: 25.5000\n",
            "Epoch 64/100\n",
            "11/11 [==============================] - 0s 4ms/step - loss: 29.4973 - val_loss: 26.3866\n",
            "Epoch 65/100\n",
            "11/11 [==============================] - 0s 4ms/step - loss: 30.3627 - val_loss: 23.5007\n",
            "Epoch 66/100\n",
            "11/11 [==============================] - 0s 5ms/step - loss: 27.2925 - val_loss: 22.6465\n",
            "Epoch 67/100\n",
            "11/11 [==============================] - 0s 5ms/step - loss: 31.5009 - val_loss: 63.2661\n",
            "Epoch 68/100\n",
            "11/11 [==============================] - 0s 3ms/step - loss: 37.9040 - val_loss: 89.7029\n",
            "Epoch 69/100\n",
            "11/11 [==============================] - 0s 5ms/step - loss: 32.0762 - val_loss: 30.5953\n",
            "Epoch 70/100\n",
            "11/11 [==============================] - 0s 3ms/step - loss: 29.2786 - val_loss: 124.5167\n",
            "Epoch 71/100\n",
            "11/11 [==============================] - 0s 6ms/step - loss: 42.8473 - val_loss: 29.8612\n",
            "Epoch 72/100\n",
            "11/11 [==============================] - 0s 4ms/step - loss: 27.4300 - val_loss: 26.5174\n",
            "Epoch 73/100\n",
            "11/11 [==============================] - 0s 4ms/step - loss: 27.8090 - val_loss: 29.9232\n",
            "Epoch 74/100\n",
            "11/11 [==============================] - 0s 4ms/step - loss: 31.1710 - val_loss: 117.8213\n",
            "Epoch 75/100\n",
            "11/11 [==============================] - 0s 5ms/step - loss: 38.4387 - val_loss: 35.1210\n",
            "Epoch 76/100\n",
            "11/11 [==============================] - 0s 5ms/step - loss: 26.0288 - val_loss: 29.0406\n",
            "Epoch 77/100\n",
            "11/11 [==============================] - 0s 5ms/step - loss: 33.9754 - val_loss: 81.4942\n",
            "Epoch 78/100\n",
            "11/11 [==============================] - 0s 5ms/step - loss: 30.7319 - val_loss: 26.8321\n",
            "Epoch 79/100\n",
            "11/11 [==============================] - 0s 3ms/step - loss: 27.4857 - val_loss: 29.9826\n",
            "Epoch 80/100\n",
            "11/11 [==============================] - 0s 4ms/step - loss: 29.7210 - val_loss: 28.4967\n",
            "Epoch 81/100\n",
            "11/11 [==============================] - 0s 5ms/step - loss: 28.9946 - val_loss: 26.7185\n",
            "Epoch 82/100\n",
            "11/11 [==============================] - 0s 5ms/step - loss: 29.8655 - val_loss: 41.5611\n",
            "Epoch 83/100\n",
            "11/11 [==============================] - 0s 5ms/step - loss: 32.3967 - val_loss: 24.1512\n",
            "Epoch 84/100\n",
            "11/11 [==============================] - 0s 5ms/step - loss: 25.6562 - val_loss: 35.0631\n",
            "Epoch 85/100\n",
            "11/11 [==============================] - 0s 3ms/step - loss: 32.3119 - val_loss: 23.6498\n",
            "Epoch 86/100\n",
            "11/11 [==============================] - 0s 5ms/step - loss: 29.7721 - val_loss: 22.3729\n",
            "Epoch 87/100\n",
            "11/11 [==============================] - 0s 5ms/step - loss: 29.9469 - val_loss: 24.7199\n",
            "Epoch 88/100\n",
            "11/11 [==============================] - 0s 5ms/step - loss: 37.3684 - val_loss: 26.6811\n",
            "Epoch 89/100\n",
            "11/11 [==============================] - 0s 5ms/step - loss: 27.5739 - val_loss: 24.5100\n",
            "Epoch 90/100\n",
            "11/11 [==============================] - 0s 5ms/step - loss: 28.8880 - val_loss: 32.8047\n",
            "Epoch 91/100\n",
            "11/11 [==============================] - 0s 4ms/step - loss: 27.8626 - val_loss: 48.9546\n",
            "Epoch 92/100\n",
            "11/11 [==============================] - 0s 4ms/step - loss: 32.9783 - val_loss: 28.7977\n",
            "Epoch 93/100\n",
            "11/11 [==============================] - 0s 4ms/step - loss: 28.2637 - val_loss: 29.8695\n",
            "Epoch 94/100\n",
            "11/11 [==============================] - 0s 5ms/step - loss: 29.9707 - val_loss: 32.5750\n",
            "Epoch 95/100\n",
            "11/11 [==============================] - 0s 5ms/step - loss: 24.9893 - val_loss: 49.9792\n",
            "Epoch 96/100\n",
            "11/11 [==============================] - 0s 4ms/step - loss: 33.3990 - val_loss: 25.0429\n",
            "Epoch 97/100\n",
            "11/11 [==============================] - 0s 5ms/step - loss: 25.5164 - val_loss: 42.4382\n",
            "Epoch 98/100\n",
            "11/11 [==============================] - 0s 5ms/step - loss: 27.9728 - val_loss: 24.8356\n",
            "Epoch 99/100\n",
            "11/11 [==============================] - 0s 4ms/step - loss: 26.1431 - val_loss: 35.7463\n",
            "Epoch 100/100\n",
            "11/11 [==============================] - 0s 5ms/step - loss: 30.5258 - val_loss: 23.8502\n"
          ]
        },
        {
          "output_type": "execute_result",
          "data": {
            "text/plain": [
              "<keras.callbacks.History at 0x7f7192803250>"
            ]
          },
          "metadata": {},
          "execution_count": 13
        }
      ]
    },
    {
      "cell_type": "code",
      "metadata": {
        "id": "1vkHWCABXJ3T"
      },
      "source": [
        "import numpy as np\n",
        "test_x = np.reshape([1.2, 0, 8.14e+00, 0.0e+00, 5.3e-01, 6.14e+00, 9.170e+01, 3.97e+00, 4, 3.07e+02, 2.10e+01, 3.96e+02, 1.872e+01],(-1, 13))\n",
        "\n",
        "test_y = model.predict(test_x)"
      ],
      "execution_count": 14,
      "outputs": []
    },
    {
      "cell_type": "code",
      "metadata": {
        "colab": {
          "base_uri": "https://localhost:8080/"
        },
        "id": "3JeOpG7vXNuh",
        "outputId": "cd466750-caab-41ff-9335-7917ff0c3ded"
      },
      "source": [
        "print(test_y)"
      ],
      "execution_count": 15,
      "outputs": [
        {
          "output_type": "stream",
          "name": "stdout",
          "text": [
            "[[15.235928]]\n"
          ]
        }
      ]
    }
  ]
}